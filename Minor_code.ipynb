{
  "nbformat": 4,
  "nbformat_minor": 0,
  "metadata": {
    "colab": {
      "provenance": [],
      "authorship_tag": "ABX9TyMKmK/smPcEEyBEO1fAHt8U",
      "include_colab_link": true
    },
    "kernelspec": {
      "name": "python3",
      "display_name": "Python 3"
    },
    "language_info": {
      "name": "python"
    }
  },
  "cells": [
    {
      "cell_type": "markdown",
      "metadata": {
        "id": "view-in-github",
        "colab_type": "text"
      },
      "source": [
        "<a href=\"https://colab.research.google.com/github/jani2771/Smart-Grid-Optimization-Using-Machine-Learning/blob/main/Minor_code.ipynb\" target=\"_parent\"><img src=\"https://colab.research.google.com/assets/colab-badge.svg\" alt=\"Open In Colab\"/></a>"
      ]
    },
    {
      "cell_type": "code",
      "execution_count": 2,
      "metadata": {
        "id": "VZSgDamiyeWT"
      },
      "outputs": [],
      "source": [
        "import numpy as np\n",
        "import pandas as pd\n",
        "import matplotlib.pyplot as plt\n",
        "import seaborn as sns\n",
        "from sklearn.model_selection import train_test_split\n",
        "from sklearn.ensemble import RandomForestClassifier\n",
        "from sklearn.metrics import accuracy_score, classification_report\n",
        "from sklearn.preprocessing import LabelEncoder\n",
        "from sklearn.tree import DecisionTreeClassifier\n",
        "from sklearn.svm import SVC\n",
        "from sklearn.ensemble import GradientBoostingClassifier\n",
        "\n",
        "# Import necessary libraries for LSTM\n",
        "from sklearn.preprocessing import StandardScaler\n",
        "from tensorflow.keras.models import Sequential\n",
        "from tensorflow.keras.layers import LSTM, Dense"
      ]
    },
    {
      "cell_type": "code",
      "source": [
        "df = pd.read_csv(\"smart_grid_stability.csv\")\n"
      ],
      "metadata": {
        "id": "AmqbLYUIzMcK"
      },
      "execution_count": 3,
      "outputs": []
    },
    {
      "cell_type": "code",
      "source": [
        "df.head()"
      ],
      "metadata": {
        "colab": {
          "base_uri": "https://localhost:8080/",
          "height": 206
        },
        "id": "KKuSM5QCzQEn",
        "outputId": "9be9036c-e380-458d-9082-2fe6d0f835ae"
      },
      "execution_count": 4,
      "outputs": [
        {
          "output_type": "execute_result",
          "data": {
            "text/plain": [
              "       tau1      tau2      tau3      tau4        p1        p2        p3  \\\n",
              "0  2.959060  3.079885  8.381025  9.780754  3.763085 -0.782604 -1.257395   \n",
              "1  9.304097  4.902524  3.047541  1.369357  5.067812 -1.940058 -1.872742   \n",
              "2  8.971707  8.848428  3.046479  1.214518  3.405158 -1.207456 -1.277210   \n",
              "3  0.716415  7.669600  4.486641  2.340563  3.963791 -1.027473 -1.938944   \n",
              "4  3.134112  7.608772  4.943759  9.857573  3.525811 -1.125531 -1.845975   \n",
              "\n",
              "         p4        g1        g2        g3        g4      stab     stabf  \n",
              "0 -1.723086  0.650456  0.859578  0.887445  0.958034  0.055347  unstable  \n",
              "1 -1.255012  0.413441  0.862414  0.562139  0.781760 -0.005957    stable  \n",
              "2 -0.920492  0.163041  0.766689  0.839444  0.109853  0.003471  unstable  \n",
              "3 -0.997374  0.446209  0.976744  0.929381  0.362718  0.028871  unstable  \n",
              "4 -0.554305  0.797110  0.455450  0.656947  0.820923  0.049860  unstable  "
            ],
            "text/html": [
              "\n",
              "  <div id=\"df-6b0ae7f7-be16-4c1f-816a-3f933b17d2f0\" class=\"colab-df-container\">\n",
              "    <div>\n",
              "<style scoped>\n",
              "    .dataframe tbody tr th:only-of-type {\n",
              "        vertical-align: middle;\n",
              "    }\n",
              "\n",
              "    .dataframe tbody tr th {\n",
              "        vertical-align: top;\n",
              "    }\n",
              "\n",
              "    .dataframe thead th {\n",
              "        text-align: right;\n",
              "    }\n",
              "</style>\n",
              "<table border=\"1\" class=\"dataframe\">\n",
              "  <thead>\n",
              "    <tr style=\"text-align: right;\">\n",
              "      <th></th>\n",
              "      <th>tau1</th>\n",
              "      <th>tau2</th>\n",
              "      <th>tau3</th>\n",
              "      <th>tau4</th>\n",
              "      <th>p1</th>\n",
              "      <th>p2</th>\n",
              "      <th>p3</th>\n",
              "      <th>p4</th>\n",
              "      <th>g1</th>\n",
              "      <th>g2</th>\n",
              "      <th>g3</th>\n",
              "      <th>g4</th>\n",
              "      <th>stab</th>\n",
              "      <th>stabf</th>\n",
              "    </tr>\n",
              "  </thead>\n",
              "  <tbody>\n",
              "    <tr>\n",
              "      <th>0</th>\n",
              "      <td>2.959060</td>\n",
              "      <td>3.079885</td>\n",
              "      <td>8.381025</td>\n",
              "      <td>9.780754</td>\n",
              "      <td>3.763085</td>\n",
              "      <td>-0.782604</td>\n",
              "      <td>-1.257395</td>\n",
              "      <td>-1.723086</td>\n",
              "      <td>0.650456</td>\n",
              "      <td>0.859578</td>\n",
              "      <td>0.887445</td>\n",
              "      <td>0.958034</td>\n",
              "      <td>0.055347</td>\n",
              "      <td>unstable</td>\n",
              "    </tr>\n",
              "    <tr>\n",
              "      <th>1</th>\n",
              "      <td>9.304097</td>\n",
              "      <td>4.902524</td>\n",
              "      <td>3.047541</td>\n",
              "      <td>1.369357</td>\n",
              "      <td>5.067812</td>\n",
              "      <td>-1.940058</td>\n",
              "      <td>-1.872742</td>\n",
              "      <td>-1.255012</td>\n",
              "      <td>0.413441</td>\n",
              "      <td>0.862414</td>\n",
              "      <td>0.562139</td>\n",
              "      <td>0.781760</td>\n",
              "      <td>-0.005957</td>\n",
              "      <td>stable</td>\n",
              "    </tr>\n",
              "    <tr>\n",
              "      <th>2</th>\n",
              "      <td>8.971707</td>\n",
              "      <td>8.848428</td>\n",
              "      <td>3.046479</td>\n",
              "      <td>1.214518</td>\n",
              "      <td>3.405158</td>\n",
              "      <td>-1.207456</td>\n",
              "      <td>-1.277210</td>\n",
              "      <td>-0.920492</td>\n",
              "      <td>0.163041</td>\n",
              "      <td>0.766689</td>\n",
              "      <td>0.839444</td>\n",
              "      <td>0.109853</td>\n",
              "      <td>0.003471</td>\n",
              "      <td>unstable</td>\n",
              "    </tr>\n",
              "    <tr>\n",
              "      <th>3</th>\n",
              "      <td>0.716415</td>\n",
              "      <td>7.669600</td>\n",
              "      <td>4.486641</td>\n",
              "      <td>2.340563</td>\n",
              "      <td>3.963791</td>\n",
              "      <td>-1.027473</td>\n",
              "      <td>-1.938944</td>\n",
              "      <td>-0.997374</td>\n",
              "      <td>0.446209</td>\n",
              "      <td>0.976744</td>\n",
              "      <td>0.929381</td>\n",
              "      <td>0.362718</td>\n",
              "      <td>0.028871</td>\n",
              "      <td>unstable</td>\n",
              "    </tr>\n",
              "    <tr>\n",
              "      <th>4</th>\n",
              "      <td>3.134112</td>\n",
              "      <td>7.608772</td>\n",
              "      <td>4.943759</td>\n",
              "      <td>9.857573</td>\n",
              "      <td>3.525811</td>\n",
              "      <td>-1.125531</td>\n",
              "      <td>-1.845975</td>\n",
              "      <td>-0.554305</td>\n",
              "      <td>0.797110</td>\n",
              "      <td>0.455450</td>\n",
              "      <td>0.656947</td>\n",
              "      <td>0.820923</td>\n",
              "      <td>0.049860</td>\n",
              "      <td>unstable</td>\n",
              "    </tr>\n",
              "  </tbody>\n",
              "</table>\n",
              "</div>\n",
              "    <div class=\"colab-df-buttons\">\n",
              "\n",
              "  <div class=\"colab-df-container\">\n",
              "    <button class=\"colab-df-convert\" onclick=\"convertToInteractive('df-6b0ae7f7-be16-4c1f-816a-3f933b17d2f0')\"\n",
              "            title=\"Convert this dataframe to an interactive table.\"\n",
              "            style=\"display:none;\">\n",
              "\n",
              "  <svg xmlns=\"http://www.w3.org/2000/svg\" height=\"24px\" viewBox=\"0 -960 960 960\">\n",
              "    <path d=\"M120-120v-720h720v720H120Zm60-500h600v-160H180v160Zm220 220h160v-160H400v160Zm0 220h160v-160H400v160ZM180-400h160v-160H180v160Zm440 0h160v-160H620v160ZM180-180h160v-160H180v160Zm440 0h160v-160H620v160Z\"/>\n",
              "  </svg>\n",
              "    </button>\n",
              "\n",
              "  <style>\n",
              "    .colab-df-container {\n",
              "      display:flex;\n",
              "      gap: 12px;\n",
              "    }\n",
              "\n",
              "    .colab-df-convert {\n",
              "      background-color: #E8F0FE;\n",
              "      border: none;\n",
              "      border-radius: 50%;\n",
              "      cursor: pointer;\n",
              "      display: none;\n",
              "      fill: #1967D2;\n",
              "      height: 32px;\n",
              "      padding: 0 0 0 0;\n",
              "      width: 32px;\n",
              "    }\n",
              "\n",
              "    .colab-df-convert:hover {\n",
              "      background-color: #E2EBFA;\n",
              "      box-shadow: 0px 1px 2px rgba(60, 64, 67, 0.3), 0px 1px 3px 1px rgba(60, 64, 67, 0.15);\n",
              "      fill: #174EA6;\n",
              "    }\n",
              "\n",
              "    .colab-df-buttons div {\n",
              "      margin-bottom: 4px;\n",
              "    }\n",
              "\n",
              "    [theme=dark] .colab-df-convert {\n",
              "      background-color: #3B4455;\n",
              "      fill: #D2E3FC;\n",
              "    }\n",
              "\n",
              "    [theme=dark] .colab-df-convert:hover {\n",
              "      background-color: #434B5C;\n",
              "      box-shadow: 0px 1px 3px 1px rgba(0, 0, 0, 0.15);\n",
              "      filter: drop-shadow(0px 1px 2px rgba(0, 0, 0, 0.3));\n",
              "      fill: #FFFFFF;\n",
              "    }\n",
              "  </style>\n",
              "\n",
              "    <script>\n",
              "      const buttonEl =\n",
              "        document.querySelector('#df-6b0ae7f7-be16-4c1f-816a-3f933b17d2f0 button.colab-df-convert');\n",
              "      buttonEl.style.display =\n",
              "        google.colab.kernel.accessAllowed ? 'block' : 'none';\n",
              "\n",
              "      async function convertToInteractive(key) {\n",
              "        const element = document.querySelector('#df-6b0ae7f7-be16-4c1f-816a-3f933b17d2f0');\n",
              "        const dataTable =\n",
              "          await google.colab.kernel.invokeFunction('convertToInteractive',\n",
              "                                                    [key], {});\n",
              "        if (!dataTable) return;\n",
              "\n",
              "        const docLinkHtml = 'Like what you see? Visit the ' +\n",
              "          '<a target=\"_blank\" href=https://colab.research.google.com/notebooks/data_table.ipynb>data table notebook</a>'\n",
              "          + ' to learn more about interactive tables.';\n",
              "        element.innerHTML = '';\n",
              "        dataTable['output_type'] = 'display_data';\n",
              "        await google.colab.output.renderOutput(dataTable, element);\n",
              "        const docLink = document.createElement('div');\n",
              "        docLink.innerHTML = docLinkHtml;\n",
              "        element.appendChild(docLink);\n",
              "      }\n",
              "    </script>\n",
              "  </div>\n",
              "\n",
              "\n",
              "<div id=\"df-e3fbca10-f7bd-4846-b8b0-25a5ac225360\">\n",
              "  <button class=\"colab-df-quickchart\" onclick=\"quickchart('df-e3fbca10-f7bd-4846-b8b0-25a5ac225360')\"\n",
              "            title=\"Suggest charts\"\n",
              "            style=\"display:none;\">\n",
              "\n",
              "<svg xmlns=\"http://www.w3.org/2000/svg\" height=\"24px\"viewBox=\"0 0 24 24\"\n",
              "     width=\"24px\">\n",
              "    <g>\n",
              "        <path d=\"M19 3H5c-1.1 0-2 .9-2 2v14c0 1.1.9 2 2 2h14c1.1 0 2-.9 2-2V5c0-1.1-.9-2-2-2zM9 17H7v-7h2v7zm4 0h-2V7h2v10zm4 0h-2v-4h2v4z\"/>\n",
              "    </g>\n",
              "</svg>\n",
              "  </button>\n",
              "\n",
              "<style>\n",
              "  .colab-df-quickchart {\n",
              "      --bg-color: #E8F0FE;\n",
              "      --fill-color: #1967D2;\n",
              "      --hover-bg-color: #E2EBFA;\n",
              "      --hover-fill-color: #174EA6;\n",
              "      --disabled-fill-color: #AAA;\n",
              "      --disabled-bg-color: #DDD;\n",
              "  }\n",
              "\n",
              "  [theme=dark] .colab-df-quickchart {\n",
              "      --bg-color: #3B4455;\n",
              "      --fill-color: #D2E3FC;\n",
              "      --hover-bg-color: #434B5C;\n",
              "      --hover-fill-color: #FFFFFF;\n",
              "      --disabled-bg-color: #3B4455;\n",
              "      --disabled-fill-color: #666;\n",
              "  }\n",
              "\n",
              "  .colab-df-quickchart {\n",
              "    background-color: var(--bg-color);\n",
              "    border: none;\n",
              "    border-radius: 50%;\n",
              "    cursor: pointer;\n",
              "    display: none;\n",
              "    fill: var(--fill-color);\n",
              "    height: 32px;\n",
              "    padding: 0;\n",
              "    width: 32px;\n",
              "  }\n",
              "\n",
              "  .colab-df-quickchart:hover {\n",
              "    background-color: var(--hover-bg-color);\n",
              "    box-shadow: 0 1px 2px rgba(60, 64, 67, 0.3), 0 1px 3px 1px rgba(60, 64, 67, 0.15);\n",
              "    fill: var(--button-hover-fill-color);\n",
              "  }\n",
              "\n",
              "  .colab-df-quickchart-complete:disabled,\n",
              "  .colab-df-quickchart-complete:disabled:hover {\n",
              "    background-color: var(--disabled-bg-color);\n",
              "    fill: var(--disabled-fill-color);\n",
              "    box-shadow: none;\n",
              "  }\n",
              "\n",
              "  .colab-df-spinner {\n",
              "    border: 2px solid var(--fill-color);\n",
              "    border-color: transparent;\n",
              "    border-bottom-color: var(--fill-color);\n",
              "    animation:\n",
              "      spin 1s steps(1) infinite;\n",
              "  }\n",
              "\n",
              "  @keyframes spin {\n",
              "    0% {\n",
              "      border-color: transparent;\n",
              "      border-bottom-color: var(--fill-color);\n",
              "      border-left-color: var(--fill-color);\n",
              "    }\n",
              "    20% {\n",
              "      border-color: transparent;\n",
              "      border-left-color: var(--fill-color);\n",
              "      border-top-color: var(--fill-color);\n",
              "    }\n",
              "    30% {\n",
              "      border-color: transparent;\n",
              "      border-left-color: var(--fill-color);\n",
              "      border-top-color: var(--fill-color);\n",
              "      border-right-color: var(--fill-color);\n",
              "    }\n",
              "    40% {\n",
              "      border-color: transparent;\n",
              "      border-right-color: var(--fill-color);\n",
              "      border-top-color: var(--fill-color);\n",
              "    }\n",
              "    60% {\n",
              "      border-color: transparent;\n",
              "      border-right-color: var(--fill-color);\n",
              "    }\n",
              "    80% {\n",
              "      border-color: transparent;\n",
              "      border-right-color: var(--fill-color);\n",
              "      border-bottom-color: var(--fill-color);\n",
              "    }\n",
              "    90% {\n",
              "      border-color: transparent;\n",
              "      border-bottom-color: var(--fill-color);\n",
              "    }\n",
              "  }\n",
              "</style>\n",
              "\n",
              "  <script>\n",
              "    async function quickchart(key) {\n",
              "      const quickchartButtonEl =\n",
              "        document.querySelector('#' + key + ' button');\n",
              "      quickchartButtonEl.disabled = true;  // To prevent multiple clicks.\n",
              "      quickchartButtonEl.classList.add('colab-df-spinner');\n",
              "      try {\n",
              "        const charts = await google.colab.kernel.invokeFunction(\n",
              "            'suggestCharts', [key], {});\n",
              "      } catch (error) {\n",
              "        console.error('Error during call to suggestCharts:', error);\n",
              "      }\n",
              "      quickchartButtonEl.classList.remove('colab-df-spinner');\n",
              "      quickchartButtonEl.classList.add('colab-df-quickchart-complete');\n",
              "    }\n",
              "    (() => {\n",
              "      let quickchartButtonEl =\n",
              "        document.querySelector('#df-e3fbca10-f7bd-4846-b8b0-25a5ac225360 button');\n",
              "      quickchartButtonEl.style.display =\n",
              "        google.colab.kernel.accessAllowed ? 'block' : 'none';\n",
              "    })();\n",
              "  </script>\n",
              "</div>\n",
              "\n",
              "    </div>\n",
              "  </div>\n"
            ],
            "application/vnd.google.colaboratory.intrinsic+json": {
              "type": "dataframe",
              "variable_name": "df",
              "summary": "{\n  \"name\": \"df\",\n  \"rows\": 60000,\n  \"fields\": [\n    {\n      \"column\": \"tau1\",\n      \"properties\": {\n        \"dtype\": \"number\",\n        \"std\": 2.7424340970040477,\n        \"min\": 0.500793021,\n        \"max\": 9.999469469,\n        \"num_unique_values\": 10000,\n        \"samples\": [\n          1.953135935,\n          4.613689738,\n          2.738000978\n        ],\n        \"semantic_type\": \"\",\n        \"description\": \"\"\n      }\n    },\n    {\n      \"column\": \"tau2\",\n      \"properties\": {\n        \"dtype\": \"number\",\n        \"std\": 2.742436943178627,\n        \"min\": 0.50014136,\n        \"max\": 9.999836556,\n        \"num_unique_values\": 30000,\n        \"samples\": [\n          2.171392356,\n          7.601468082,\n          5.375886488\n        ],\n        \"semantic_type\": \"\",\n        \"description\": \"\"\n      }\n    },\n    {\n      \"column\": \"tau3\",\n      \"properties\": {\n        \"dtype\": \"number\",\n        \"std\": 2.742436943178628,\n        \"min\": 0.50014136,\n        \"max\": 9.999836556,\n        \"num_unique_values\": 30000,\n        \"samples\": [\n          6.496915539,\n          4.240233597,\n          9.235104827\n        ],\n        \"semantic_type\": \"\",\n        \"description\": \"\"\n      }\n    },\n    {\n      \"column\": \"tau4\",\n      \"properties\": {\n        \"dtype\": \"number\",\n        \"std\": 2.742436943178626,\n        \"min\": 0.50014136,\n        \"max\": 9.999836556,\n        \"num_unique_values\": 30000,\n        \"samples\": [\n          7.49094495,\n          8.043732348,\n          4.624808774\n        ],\n        \"semantic_type\": \"\",\n        \"description\": \"\"\n      }\n    },\n    {\n      \"column\": \"p1\",\n      \"properties\": {\n        \"dtype\": \"number\",\n        \"std\": 0.7521287637205661,\n        \"min\": 1.582589665,\n        \"max\": 5.86441796,\n        \"num_unique_values\": 10000,\n        \"samples\": [\n          5.128952194,\n          4.655630718,\n          5.00760989\n        ],\n        \"semantic_type\": \"\",\n        \"description\": \"\"\n      }\n    },\n    {\n      \"column\": \"p2\",\n      \"properties\": {\n        \"dtype\": \"number\",\n        \"std\": 0.4330169363442455,\n        \"min\": -1.999944669,\n        \"max\": -0.500024529,\n        \"num_unique_values\": 30000,\n        \"samples\": [\n          -1.565467559,\n          -1.597991188,\n          -1.071125541\n        ],\n        \"semantic_type\": \"\",\n        \"description\": \"\"\n      }\n    },\n    {\n      \"column\": \"p3\",\n      \"properties\": {\n        \"dtype\": \"number\",\n        \"std\": 0.4330169363442422,\n        \"min\": -1.999944669,\n        \"max\": -0.500024529,\n        \"num_unique_values\": 30000,\n        \"samples\": [\n          -1.784928311,\n          -1.319187443,\n          -0.919830482\n        ],\n        \"semantic_type\": \"\",\n        \"description\": \"\"\n      }\n    },\n    {\n      \"column\": \"p4\",\n      \"properties\": {\n        \"dtype\": \"number\",\n        \"std\": 0.43301693634424326,\n        \"min\": -1.999944669,\n        \"max\": -0.500024529,\n        \"num_unique_values\": 30000,\n        \"samples\": [\n          -1.465452509,\n          -1.138557433,\n          -1.960796465\n        ],\n        \"semantic_type\": \"\",\n        \"description\": \"\"\n      }\n    },\n    {\n      \"column\": \"g1\",\n      \"properties\": {\n        \"dtype\": \"number\",\n        \"std\": 0.2742441042097485,\n        \"min\": 0.050009304,\n        \"max\": 0.999937073,\n        \"num_unique_values\": 10000,\n        \"samples\": [\n          0.487235136,\n          0.39510621,\n          0.16230994\n        ],\n        \"semantic_type\": \"\",\n        \"description\": \"\"\n      }\n    },\n    {\n      \"column\": \"g2\",\n      \"properties\": {\n        \"dtype\": \"number\",\n        \"std\": 0.27424342600433643,\n        \"min\": 0.050028494,\n        \"max\": 0.999981832,\n        \"num_unique_values\": 30000,\n        \"samples\": [\n          0.719611845,\n          0.925068873,\n          0.849056632\n        ],\n        \"semantic_type\": \"\",\n        \"description\": \"\"\n      }\n    },\n    {\n      \"column\": \"g3\",\n      \"properties\": {\n        \"dtype\": \"number\",\n        \"std\": 0.27424342600433754,\n        \"min\": 0.050028494,\n        \"max\": 0.999981832,\n        \"num_unique_values\": 30000,\n        \"samples\": [\n          0.495036223,\n          0.765132855,\n          0.08629341\n        ],\n        \"semantic_type\": \"\",\n        \"description\": \"\"\n      }\n    },\n    {\n      \"column\": \"g4\",\n      \"properties\": {\n        \"dtype\": \"number\",\n        \"std\": 0.27424342600433776,\n        \"min\": 0.050028494,\n        \"max\": 0.999981832,\n        \"num_unique_values\": 30000,\n        \"samples\": [\n          0.372501751,\n          0.888738456,\n          0.632590179\n        ],\n        \"semantic_type\": \"\",\n        \"description\": \"\"\n      }\n    },\n    {\n      \"column\": \"stab\",\n      \"properties\": {\n        \"dtype\": \"number\",\n        \"std\": 0.03691749402201233,\n        \"min\": -0.080759892,\n        \"max\": 0.109403206,\n        \"num_unique_values\": 10000,\n        \"samples\": [\n          0.035628966,\n          0.002382646,\n          0.03061996\n        ],\n        \"semantic_type\": \"\",\n        \"description\": \"\"\n      }\n    },\n    {\n      \"column\": \"stabf\",\n      \"properties\": {\n        \"dtype\": \"category\",\n        \"num_unique_values\": 2,\n        \"samples\": [\n          \"stable\",\n          \"unstable\"\n        ],\n        \"semantic_type\": \"\",\n        \"description\": \"\"\n      }\n    }\n  ]\n}"
            }
          },
          "metadata": {},
          "execution_count": 4
        }
      ]
    },
    {
      "cell_type": "code",
      "source": [
        "\n",
        "df.info()"
      ],
      "metadata": {
        "colab": {
          "base_uri": "https://localhost:8080/"
        },
        "id": "qsh5nvWwzTjv",
        "outputId": "68fca82c-6bef-44b3-ff4d-e833c6050d02"
      },
      "execution_count": 5,
      "outputs": [
        {
          "output_type": "stream",
          "name": "stdout",
          "text": [
            "<class 'pandas.core.frame.DataFrame'>\n",
            "RangeIndex: 60000 entries, 0 to 59999\n",
            "Data columns (total 14 columns):\n",
            " #   Column  Non-Null Count  Dtype  \n",
            "---  ------  --------------  -----  \n",
            " 0   tau1    60000 non-null  float64\n",
            " 1   tau2    60000 non-null  float64\n",
            " 2   tau3    60000 non-null  float64\n",
            " 3   tau4    60000 non-null  float64\n",
            " 4   p1      60000 non-null  float64\n",
            " 5   p2      60000 non-null  float64\n",
            " 6   p3      60000 non-null  float64\n",
            " 7   p4      60000 non-null  float64\n",
            " 8   g1      60000 non-null  float64\n",
            " 9   g2      60000 non-null  float64\n",
            " 10  g3      60000 non-null  float64\n",
            " 11  g4      60000 non-null  float64\n",
            " 12  stab    60000 non-null  float64\n",
            " 13  stabf   60000 non-null  object \n",
            "dtypes: float64(13), object(1)\n",
            "memory usage: 6.4+ MB\n"
          ]
        }
      ]
    },
    {
      "cell_type": "code",
      "source": [
        "df.isnull().sum()"
      ],
      "metadata": {
        "colab": {
          "base_uri": "https://localhost:8080/",
          "height": 523
        },
        "id": "2_dE54WQzYqa",
        "outputId": "ba5d96c3-65a3-45f0-a209-5f68449393b0"
      },
      "execution_count": 6,
      "outputs": [
        {
          "output_type": "execute_result",
          "data": {
            "text/plain": [
              "tau1     0\n",
              "tau2     0\n",
              "tau3     0\n",
              "tau4     0\n",
              "p1       0\n",
              "p2       0\n",
              "p3       0\n",
              "p4       0\n",
              "g1       0\n",
              "g2       0\n",
              "g3       0\n",
              "g4       0\n",
              "stab     0\n",
              "stabf    0\n",
              "dtype: int64"
            ],
            "text/html": [
              "<div>\n",
              "<style scoped>\n",
              "    .dataframe tbody tr th:only-of-type {\n",
              "        vertical-align: middle;\n",
              "    }\n",
              "\n",
              "    .dataframe tbody tr th {\n",
              "        vertical-align: top;\n",
              "    }\n",
              "\n",
              "    .dataframe thead th {\n",
              "        text-align: right;\n",
              "    }\n",
              "</style>\n",
              "<table border=\"1\" class=\"dataframe\">\n",
              "  <thead>\n",
              "    <tr style=\"text-align: right;\">\n",
              "      <th></th>\n",
              "      <th>0</th>\n",
              "    </tr>\n",
              "  </thead>\n",
              "  <tbody>\n",
              "    <tr>\n",
              "      <th>tau1</th>\n",
              "      <td>0</td>\n",
              "    </tr>\n",
              "    <tr>\n",
              "      <th>tau2</th>\n",
              "      <td>0</td>\n",
              "    </tr>\n",
              "    <tr>\n",
              "      <th>tau3</th>\n",
              "      <td>0</td>\n",
              "    </tr>\n",
              "    <tr>\n",
              "      <th>tau4</th>\n",
              "      <td>0</td>\n",
              "    </tr>\n",
              "    <tr>\n",
              "      <th>p1</th>\n",
              "      <td>0</td>\n",
              "    </tr>\n",
              "    <tr>\n",
              "      <th>p2</th>\n",
              "      <td>0</td>\n",
              "    </tr>\n",
              "    <tr>\n",
              "      <th>p3</th>\n",
              "      <td>0</td>\n",
              "    </tr>\n",
              "    <tr>\n",
              "      <th>p4</th>\n",
              "      <td>0</td>\n",
              "    </tr>\n",
              "    <tr>\n",
              "      <th>g1</th>\n",
              "      <td>0</td>\n",
              "    </tr>\n",
              "    <tr>\n",
              "      <th>g2</th>\n",
              "      <td>0</td>\n",
              "    </tr>\n",
              "    <tr>\n",
              "      <th>g3</th>\n",
              "      <td>0</td>\n",
              "    </tr>\n",
              "    <tr>\n",
              "      <th>g4</th>\n",
              "      <td>0</td>\n",
              "    </tr>\n",
              "    <tr>\n",
              "      <th>stab</th>\n",
              "      <td>0</td>\n",
              "    </tr>\n",
              "    <tr>\n",
              "      <th>stabf</th>\n",
              "      <td>0</td>\n",
              "    </tr>\n",
              "  </tbody>\n",
              "</table>\n",
              "</div><br><label><b>dtype:</b> int64</label>"
            ]
          },
          "metadata": {},
          "execution_count": 6
        }
      ]
    },
    {
      "cell_type": "code",
      "source": [
        "df.describe()"
      ],
      "metadata": {
        "colab": {
          "base_uri": "https://localhost:8080/",
          "height": 300
        },
        "id": "8qQr3-1azcqW",
        "outputId": "569f7b96-a890-4bca-c38e-f3552d69d575"
      },
      "execution_count": 7,
      "outputs": [
        {
          "output_type": "execute_result",
          "data": {
            "text/plain": [
              "               tau1          tau2          tau3          tau4            p1  \\\n",
              "count  60000.000000  60000.000000  60000.000000  60000.000000  60000.000000   \n",
              "mean       5.250000      5.250001      5.250001      5.250001      3.750000   \n",
              "std        2.742434      2.742437      2.742437      2.742437      0.752129   \n",
              "min        0.500793      0.500141      0.500141      0.500141      1.582590   \n",
              "25%        2.874892      2.875011      2.875011      2.875011      3.218300   \n",
              "50%        5.250004      5.249981      5.249981      5.249981      3.751025   \n",
              "75%        7.624690      7.624896      7.624896      7.624896      4.282420   \n",
              "max        9.999469      9.999837      9.999837      9.999837      5.864418   \n",
              "\n",
              "                 p2            p3            p4            g1            g2  \\\n",
              "count  60000.000000  60000.000000  60000.000000  60000.000000  60000.000000   \n",
              "mean      -1.250000     -1.250000     -1.250000      0.525000      0.525000   \n",
              "std        0.433017      0.433017      0.433017      0.274244      0.274243   \n",
              "min       -1.999945     -1.999945     -1.999945      0.050009      0.050028   \n",
              "25%       -1.624997     -1.624997     -1.624997      0.287521      0.287497   \n",
              "50%       -1.249996     -1.249996     -1.249996      0.525009      0.525007   \n",
              "75%       -0.874993     -0.874993     -0.874993      0.762435      0.762490   \n",
              "max       -0.500025     -0.500025     -0.500025      0.999937      0.999982   \n",
              "\n",
              "                 g3            g4          stab  \n",
              "count  60000.000000  60000.000000  60000.000000  \n",
              "mean       0.525000      0.525000      0.015731  \n",
              "std        0.274243      0.274243      0.036917  \n",
              "min        0.050028      0.050028     -0.080760  \n",
              "25%        0.287497      0.287497     -0.015557  \n",
              "50%        0.525007      0.525007      0.017142  \n",
              "75%        0.762490      0.762490      0.044878  \n",
              "max        0.999982      0.999982      0.109403  "
            ],
            "text/html": [
              "\n",
              "  <div id=\"df-2ff98a17-4ba6-43bd-a7b7-d0510b12cef9\" class=\"colab-df-container\">\n",
              "    <div>\n",
              "<style scoped>\n",
              "    .dataframe tbody tr th:only-of-type {\n",
              "        vertical-align: middle;\n",
              "    }\n",
              "\n",
              "    .dataframe tbody tr th {\n",
              "        vertical-align: top;\n",
              "    }\n",
              "\n",
              "    .dataframe thead th {\n",
              "        text-align: right;\n",
              "    }\n",
              "</style>\n",
              "<table border=\"1\" class=\"dataframe\">\n",
              "  <thead>\n",
              "    <tr style=\"text-align: right;\">\n",
              "      <th></th>\n",
              "      <th>tau1</th>\n",
              "      <th>tau2</th>\n",
              "      <th>tau3</th>\n",
              "      <th>tau4</th>\n",
              "      <th>p1</th>\n",
              "      <th>p2</th>\n",
              "      <th>p3</th>\n",
              "      <th>p4</th>\n",
              "      <th>g1</th>\n",
              "      <th>g2</th>\n",
              "      <th>g3</th>\n",
              "      <th>g4</th>\n",
              "      <th>stab</th>\n",
              "    </tr>\n",
              "  </thead>\n",
              "  <tbody>\n",
              "    <tr>\n",
              "      <th>count</th>\n",
              "      <td>60000.000000</td>\n",
              "      <td>60000.000000</td>\n",
              "      <td>60000.000000</td>\n",
              "      <td>60000.000000</td>\n",
              "      <td>60000.000000</td>\n",
              "      <td>60000.000000</td>\n",
              "      <td>60000.000000</td>\n",
              "      <td>60000.000000</td>\n",
              "      <td>60000.000000</td>\n",
              "      <td>60000.000000</td>\n",
              "      <td>60000.000000</td>\n",
              "      <td>60000.000000</td>\n",
              "      <td>60000.000000</td>\n",
              "    </tr>\n",
              "    <tr>\n",
              "      <th>mean</th>\n",
              "      <td>5.250000</td>\n",
              "      <td>5.250001</td>\n",
              "      <td>5.250001</td>\n",
              "      <td>5.250001</td>\n",
              "      <td>3.750000</td>\n",
              "      <td>-1.250000</td>\n",
              "      <td>-1.250000</td>\n",
              "      <td>-1.250000</td>\n",
              "      <td>0.525000</td>\n",
              "      <td>0.525000</td>\n",
              "      <td>0.525000</td>\n",
              "      <td>0.525000</td>\n",
              "      <td>0.015731</td>\n",
              "    </tr>\n",
              "    <tr>\n",
              "      <th>std</th>\n",
              "      <td>2.742434</td>\n",
              "      <td>2.742437</td>\n",
              "      <td>2.742437</td>\n",
              "      <td>2.742437</td>\n",
              "      <td>0.752129</td>\n",
              "      <td>0.433017</td>\n",
              "      <td>0.433017</td>\n",
              "      <td>0.433017</td>\n",
              "      <td>0.274244</td>\n",
              "      <td>0.274243</td>\n",
              "      <td>0.274243</td>\n",
              "      <td>0.274243</td>\n",
              "      <td>0.036917</td>\n",
              "    </tr>\n",
              "    <tr>\n",
              "      <th>min</th>\n",
              "      <td>0.500793</td>\n",
              "      <td>0.500141</td>\n",
              "      <td>0.500141</td>\n",
              "      <td>0.500141</td>\n",
              "      <td>1.582590</td>\n",
              "      <td>-1.999945</td>\n",
              "      <td>-1.999945</td>\n",
              "      <td>-1.999945</td>\n",
              "      <td>0.050009</td>\n",
              "      <td>0.050028</td>\n",
              "      <td>0.050028</td>\n",
              "      <td>0.050028</td>\n",
              "      <td>-0.080760</td>\n",
              "    </tr>\n",
              "    <tr>\n",
              "      <th>25%</th>\n",
              "      <td>2.874892</td>\n",
              "      <td>2.875011</td>\n",
              "      <td>2.875011</td>\n",
              "      <td>2.875011</td>\n",
              "      <td>3.218300</td>\n",
              "      <td>-1.624997</td>\n",
              "      <td>-1.624997</td>\n",
              "      <td>-1.624997</td>\n",
              "      <td>0.287521</td>\n",
              "      <td>0.287497</td>\n",
              "      <td>0.287497</td>\n",
              "      <td>0.287497</td>\n",
              "      <td>-0.015557</td>\n",
              "    </tr>\n",
              "    <tr>\n",
              "      <th>50%</th>\n",
              "      <td>5.250004</td>\n",
              "      <td>5.249981</td>\n",
              "      <td>5.249981</td>\n",
              "      <td>5.249981</td>\n",
              "      <td>3.751025</td>\n",
              "      <td>-1.249996</td>\n",
              "      <td>-1.249996</td>\n",
              "      <td>-1.249996</td>\n",
              "      <td>0.525009</td>\n",
              "      <td>0.525007</td>\n",
              "      <td>0.525007</td>\n",
              "      <td>0.525007</td>\n",
              "      <td>0.017142</td>\n",
              "    </tr>\n",
              "    <tr>\n",
              "      <th>75%</th>\n",
              "      <td>7.624690</td>\n",
              "      <td>7.624896</td>\n",
              "      <td>7.624896</td>\n",
              "      <td>7.624896</td>\n",
              "      <td>4.282420</td>\n",
              "      <td>-0.874993</td>\n",
              "      <td>-0.874993</td>\n",
              "      <td>-0.874993</td>\n",
              "      <td>0.762435</td>\n",
              "      <td>0.762490</td>\n",
              "      <td>0.762490</td>\n",
              "      <td>0.762490</td>\n",
              "      <td>0.044878</td>\n",
              "    </tr>\n",
              "    <tr>\n",
              "      <th>max</th>\n",
              "      <td>9.999469</td>\n",
              "      <td>9.999837</td>\n",
              "      <td>9.999837</td>\n",
              "      <td>9.999837</td>\n",
              "      <td>5.864418</td>\n",
              "      <td>-0.500025</td>\n",
              "      <td>-0.500025</td>\n",
              "      <td>-0.500025</td>\n",
              "      <td>0.999937</td>\n",
              "      <td>0.999982</td>\n",
              "      <td>0.999982</td>\n",
              "      <td>0.999982</td>\n",
              "      <td>0.109403</td>\n",
              "    </tr>\n",
              "  </tbody>\n",
              "</table>\n",
              "</div>\n",
              "    <div class=\"colab-df-buttons\">\n",
              "\n",
              "  <div class=\"colab-df-container\">\n",
              "    <button class=\"colab-df-convert\" onclick=\"convertToInteractive('df-2ff98a17-4ba6-43bd-a7b7-d0510b12cef9')\"\n",
              "            title=\"Convert this dataframe to an interactive table.\"\n",
              "            style=\"display:none;\">\n",
              "\n",
              "  <svg xmlns=\"http://www.w3.org/2000/svg\" height=\"24px\" viewBox=\"0 -960 960 960\">\n",
              "    <path d=\"M120-120v-720h720v720H120Zm60-500h600v-160H180v160Zm220 220h160v-160H400v160Zm0 220h160v-160H400v160ZM180-400h160v-160H180v160Zm440 0h160v-160H620v160ZM180-180h160v-160H180v160Zm440 0h160v-160H620v160Z\"/>\n",
              "  </svg>\n",
              "    </button>\n",
              "\n",
              "  <style>\n",
              "    .colab-df-container {\n",
              "      display:flex;\n",
              "      gap: 12px;\n",
              "    }\n",
              "\n",
              "    .colab-df-convert {\n",
              "      background-color: #E8F0FE;\n",
              "      border: none;\n",
              "      border-radius: 50%;\n",
              "      cursor: pointer;\n",
              "      display: none;\n",
              "      fill: #1967D2;\n",
              "      height: 32px;\n",
              "      padding: 0 0 0 0;\n",
              "      width: 32px;\n",
              "    }\n",
              "\n",
              "    .colab-df-convert:hover {\n",
              "      background-color: #E2EBFA;\n",
              "      box-shadow: 0px 1px 2px rgba(60, 64, 67, 0.3), 0px 1px 3px 1px rgba(60, 64, 67, 0.15);\n",
              "      fill: #174EA6;\n",
              "    }\n",
              "\n",
              "    .colab-df-buttons div {\n",
              "      margin-bottom: 4px;\n",
              "    }\n",
              "\n",
              "    [theme=dark] .colab-df-convert {\n",
              "      background-color: #3B4455;\n",
              "      fill: #D2E3FC;\n",
              "    }\n",
              "\n",
              "    [theme=dark] .colab-df-convert:hover {\n",
              "      background-color: #434B5C;\n",
              "      box-shadow: 0px 1px 3px 1px rgba(0, 0, 0, 0.15);\n",
              "      filter: drop-shadow(0px 1px 2px rgba(0, 0, 0, 0.3));\n",
              "      fill: #FFFFFF;\n",
              "    }\n",
              "  </style>\n",
              "\n",
              "    <script>\n",
              "      const buttonEl =\n",
              "        document.querySelector('#df-2ff98a17-4ba6-43bd-a7b7-d0510b12cef9 button.colab-df-convert');\n",
              "      buttonEl.style.display =\n",
              "        google.colab.kernel.accessAllowed ? 'block' : 'none';\n",
              "\n",
              "      async function convertToInteractive(key) {\n",
              "        const element = document.querySelector('#df-2ff98a17-4ba6-43bd-a7b7-d0510b12cef9');\n",
              "        const dataTable =\n",
              "          await google.colab.kernel.invokeFunction('convertToInteractive',\n",
              "                                                    [key], {});\n",
              "        if (!dataTable) return;\n",
              "\n",
              "        const docLinkHtml = 'Like what you see? Visit the ' +\n",
              "          '<a target=\"_blank\" href=https://colab.research.google.com/notebooks/data_table.ipynb>data table notebook</a>'\n",
              "          + ' to learn more about interactive tables.';\n",
              "        element.innerHTML = '';\n",
              "        dataTable['output_type'] = 'display_data';\n",
              "        await google.colab.output.renderOutput(dataTable, element);\n",
              "        const docLink = document.createElement('div');\n",
              "        docLink.innerHTML = docLinkHtml;\n",
              "        element.appendChild(docLink);\n",
              "      }\n",
              "    </script>\n",
              "  </div>\n",
              "\n",
              "\n",
              "<div id=\"df-b712a50f-2685-4856-9ff2-2b0049d828fe\">\n",
              "  <button class=\"colab-df-quickchart\" onclick=\"quickchart('df-b712a50f-2685-4856-9ff2-2b0049d828fe')\"\n",
              "            title=\"Suggest charts\"\n",
              "            style=\"display:none;\">\n",
              "\n",
              "<svg xmlns=\"http://www.w3.org/2000/svg\" height=\"24px\"viewBox=\"0 0 24 24\"\n",
              "     width=\"24px\">\n",
              "    <g>\n",
              "        <path d=\"M19 3H5c-1.1 0-2 .9-2 2v14c0 1.1.9 2 2 2h14c1.1 0 2-.9 2-2V5c0-1.1-.9-2-2-2zM9 17H7v-7h2v7zm4 0h-2V7h2v10zm4 0h-2v-4h2v4z\"/>\n",
              "    </g>\n",
              "</svg>\n",
              "  </button>\n",
              "\n",
              "<style>\n",
              "  .colab-df-quickchart {\n",
              "      --bg-color: #E8F0FE;\n",
              "      --fill-color: #1967D2;\n",
              "      --hover-bg-color: #E2EBFA;\n",
              "      --hover-fill-color: #174EA6;\n",
              "      --disabled-fill-color: #AAA;\n",
              "      --disabled-bg-color: #DDD;\n",
              "  }\n",
              "\n",
              "  [theme=dark] .colab-df-quickchart {\n",
              "      --bg-color: #3B4455;\n",
              "      --fill-color: #D2E3FC;\n",
              "      --hover-bg-color: #434B5C;\n",
              "      --hover-fill-color: #FFFFFF;\n",
              "      --disabled-bg-color: #3B4455;\n",
              "      --disabled-fill-color: #666;\n",
              "  }\n",
              "\n",
              "  .colab-df-quickchart {\n",
              "    background-color: var(--bg-color);\n",
              "    border: none;\n",
              "    border-radius: 50%;\n",
              "    cursor: pointer;\n",
              "    display: none;\n",
              "    fill: var(--fill-color);\n",
              "    height: 32px;\n",
              "    padding: 0;\n",
              "    width: 32px;\n",
              "  }\n",
              "\n",
              "  .colab-df-quickchart:hover {\n",
              "    background-color: var(--hover-bg-color);\n",
              "    box-shadow: 0 1px 2px rgba(60, 64, 67, 0.3), 0 1px 3px 1px rgba(60, 64, 67, 0.15);\n",
              "    fill: var(--button-hover-fill-color);\n",
              "  }\n",
              "\n",
              "  .colab-df-quickchart-complete:disabled,\n",
              "  .colab-df-quickchart-complete:disabled:hover {\n",
              "    background-color: var(--disabled-bg-color);\n",
              "    fill: var(--disabled-fill-color);\n",
              "    box-shadow: none;\n",
              "  }\n",
              "\n",
              "  .colab-df-spinner {\n",
              "    border: 2px solid var(--fill-color);\n",
              "    border-color: transparent;\n",
              "    border-bottom-color: var(--fill-color);\n",
              "    animation:\n",
              "      spin 1s steps(1) infinite;\n",
              "  }\n",
              "\n",
              "  @keyframes spin {\n",
              "    0% {\n",
              "      border-color: transparent;\n",
              "      border-bottom-color: var(--fill-color);\n",
              "      border-left-color: var(--fill-color);\n",
              "    }\n",
              "    20% {\n",
              "      border-color: transparent;\n",
              "      border-left-color: var(--fill-color);\n",
              "      border-top-color: var(--fill-color);\n",
              "    }\n",
              "    30% {\n",
              "      border-color: transparent;\n",
              "      border-left-color: var(--fill-color);\n",
              "      border-top-color: var(--fill-color);\n",
              "      border-right-color: var(--fill-color);\n",
              "    }\n",
              "    40% {\n",
              "      border-color: transparent;\n",
              "      border-right-color: var(--fill-color);\n",
              "      border-top-color: var(--fill-color);\n",
              "    }\n",
              "    60% {\n",
              "      border-color: transparent;\n",
              "      border-right-color: var(--fill-color);\n",
              "    }\n",
              "    80% {\n",
              "      border-color: transparent;\n",
              "      border-right-color: var(--fill-color);\n",
              "      border-bottom-color: var(--fill-color);\n",
              "    }\n",
              "    90% {\n",
              "      border-color: transparent;\n",
              "      border-bottom-color: var(--fill-color);\n",
              "    }\n",
              "  }\n",
              "</style>\n",
              "\n",
              "  <script>\n",
              "    async function quickchart(key) {\n",
              "      const quickchartButtonEl =\n",
              "        document.querySelector('#' + key + ' button');\n",
              "      quickchartButtonEl.disabled = true;  // To prevent multiple clicks.\n",
              "      quickchartButtonEl.classList.add('colab-df-spinner');\n",
              "      try {\n",
              "        const charts = await google.colab.kernel.invokeFunction(\n",
              "            'suggestCharts', [key], {});\n",
              "      } catch (error) {\n",
              "        console.error('Error during call to suggestCharts:', error);\n",
              "      }\n",
              "      quickchartButtonEl.classList.remove('colab-df-spinner');\n",
              "      quickchartButtonEl.classList.add('colab-df-quickchart-complete');\n",
              "    }\n",
              "    (() => {\n",
              "      let quickchartButtonEl =\n",
              "        document.querySelector('#df-b712a50f-2685-4856-9ff2-2b0049d828fe button');\n",
              "      quickchartButtonEl.style.display =\n",
              "        google.colab.kernel.accessAllowed ? 'block' : 'none';\n",
              "    })();\n",
              "  </script>\n",
              "</div>\n",
              "\n",
              "    </div>\n",
              "  </div>\n"
            ],
            "application/vnd.google.colaboratory.intrinsic+json": {
              "type": "dataframe",
              "summary": "{\n  \"name\": \"df\",\n  \"rows\": 8,\n  \"fields\": [\n    {\n      \"column\": \"tau1\",\n      \"properties\": {\n        \"dtype\": \"number\",\n        \"std\": 21211.4741472473,\n        \"min\": 0.500793021,\n        \"max\": 60000.0,\n        \"num_unique_values\": 8,\n        \"samples\": [\n          5.249999930611499,\n          5.250003871500001,\n          60000.0\n        ],\n        \"semantic_type\": \"\",\n        \"description\": \"\"\n      }\n    },\n    {\n      \"column\": \"tau2\",\n      \"properties\": {\n        \"dtype\": \"number\",\n        \"std\": 21211.47414616636,\n        \"min\": 0.50014136,\n        \"max\": 60000.0,\n        \"num_unique_values\": 8,\n        \"samples\": [\n          5.2500005368541665,\n          5.2499812615,\n          60000.0\n        ],\n        \"semantic_type\": \"\",\n        \"description\": \"\"\n      }\n    },\n    {\n      \"column\": \"tau3\",\n      \"properties\": {\n        \"dtype\": \"number\",\n        \"std\": 21211.47414616636,\n        \"min\": 0.50014136,\n        \"max\": 60000.0,\n        \"num_unique_values\": 8,\n        \"samples\": [\n          5.250000536854167,\n          5.2499812615,\n          60000.0\n        ],\n        \"semantic_type\": \"\",\n        \"description\": \"\"\n      }\n    },\n    {\n      \"column\": \"tau4\",\n      \"properties\": {\n        \"dtype\": \"number\",\n        \"std\": 21211.47414616636,\n        \"min\": 0.50014136,\n        \"max\": 60000.0,\n        \"num_unique_values\": 8,\n        \"samples\": [\n          5.250000536854167,\n          5.2499812615,\n          60000.0\n        ],\n        \"semantic_type\": \"\",\n        \"description\": \"\"\n      }\n    },\n    {\n      \"column\": \"p1\",\n      \"properties\": {\n        \"dtype\": \"number\",\n        \"std\": 21212.03167267894,\n        \"min\": 0.7521287637205661,\n        \"max\": 60000.0,\n        \"num_unique_values\": 8,\n        \"samples\": [\n          3.7499999579342993,\n          3.7510254375,\n          60000.0\n        ],\n        \"semantic_type\": \"\",\n        \"description\": \"\"\n      }\n    },\n    {\n      \"column\": \"p2\",\n      \"properties\": {\n        \"dtype\": \"number\",\n        \"std\": 21213.560382799697,\n        \"min\": -1.999944669,\n        \"max\": 60000.0,\n        \"num_unique_values\": 8,\n        \"samples\": [\n          -1.2499999859805997,\n          -1.2499961415,\n          60000.0\n        ],\n        \"semantic_type\": \"\",\n        \"description\": \"\"\n      }\n    },\n    {\n      \"column\": \"p3\",\n      \"properties\": {\n        \"dtype\": \"number\",\n        \"std\": 21213.560382799697,\n        \"min\": -1.999944669,\n        \"max\": 60000.0,\n        \"num_unique_values\": 8,\n        \"samples\": [\n          -1.2499999859806,\n          -1.2499961415,\n          60000.0\n        ],\n        \"semantic_type\": \"\",\n        \"description\": \"\"\n      }\n    },\n    {\n      \"column\": \"p4\",\n      \"properties\": {\n        \"dtype\": \"number\",\n        \"std\": 21213.560382799697,\n        \"min\": -1.999944669,\n        \"max\": 60000.0,\n        \"num_unique_values\": 8,\n        \"samples\": [\n          -1.2499999859806,\n          -1.2499961415,\n          60000.0\n        ],\n        \"semantic_type\": \"\",\n        \"description\": \"\"\n      }\n    },\n    {\n      \"column\": \"g1\",\n      \"properties\": {\n        \"dtype\": \"number\",\n        \"std\": 21213.030491699697,\n        \"min\": 0.050009304,\n        \"max\": 60000.0,\n        \"num_unique_values\": 8,\n        \"samples\": [\n          0.5249997888493,\n          0.525009148,\n          60000.0\n        ],\n        \"semantic_type\": \"\",\n        \"description\": \"\"\n      }\n    },\n    {\n      \"column\": \"g2\",\n      \"properties\": {\n        \"dtype\": \"number\",\n        \"std\": 21213.030487047596,\n        \"min\": 0.050028494,\n        \"max\": 60000.0,\n        \"num_unique_values\": 8,\n        \"samples\": [\n          0.5250002296027,\n          0.5250069065,\n          60000.0\n        ],\n        \"semantic_type\": \"\",\n        \"description\": \"\"\n      }\n    },\n    {\n      \"column\": \"g3\",\n      \"properties\": {\n        \"dtype\": \"number\",\n        \"std\": 21213.030487047596,\n        \"min\": 0.050028494,\n        \"max\": 60000.0,\n        \"num_unique_values\": 8,\n        \"samples\": [\n          0.5250002296027,\n          0.5250069065,\n          60000.0\n        ],\n        \"semantic_type\": \"\",\n        \"description\": \"\"\n      }\n    },\n    {\n      \"column\": \"g4\",\n      \"properties\": {\n        \"dtype\": \"number\",\n        \"std\": 21213.030487047596,\n        \"min\": 0.050028494,\n        \"max\": 60000.0,\n        \"num_unique_values\": 8,\n        \"samples\": [\n          0.5250002296027,\n          0.5250069065,\n          60000.0\n        ],\n        \"semantic_type\": \"\",\n        \"description\": \"\"\n      }\n    },\n    {\n      \"column\": \"stab\",\n      \"properties\": {\n        \"dtype\": \"number\",\n        \"std\": 21213.19698306562,\n        \"min\": -0.080759892,\n        \"max\": 60000.0,\n        \"num_unique_values\": 8,\n        \"samples\": [\n          0.015730899995299998,\n          0.0171417045,\n          60000.0\n        ],\n        \"semantic_type\": \"\",\n        \"description\": \"\"\n      }\n    }\n  ]\n}"
            }
          },
          "metadata": {},
          "execution_count": 7
        }
      ]
    },
    {
      "cell_type": "code",
      "source": [
        "numeric_columns = df.select_dtypes(include=['float64', 'int64']).columns\n",
        "correlation_matrix = df[numeric_columns].corr()\n",
        "\n",
        "plt.figure(figsize=(12, 8))\n",
        "sns.heatmap(correlation_matrix, annot=True, cmap='coolwarm', fmt=\".2f\", linewidths=0.5)\n",
        "plt.title('Correlation Matrix')\n",
        "plt.show()\n",
        "\n",
        "correlation_with_stab = correlation_matrix['stab'].sort_values(ascending=False)\n",
        "print(\"Correlation with 'stab':\\n\", correlation_with_stab)"
      ],
      "metadata": {
        "colab": {
          "base_uri": "https://localhost:8080/",
          "height": 959
        },
        "id": "tepSC_O6zf4u",
        "outputId": "67306ad0-b24e-4f12-d9c7-d0fabc2f321d"
      },
      "execution_count": 8,
      "outputs": [
        {
          "output_type": "display_data",
          "data": {
            "text/plain": [
              "<Figure size 1200x800 with 2 Axes>"
            ],
            "image/png": "[encoded data removed]"
          },
          "metadata": {}
        },
        {
          "output_type": "stream",
          "name": "stdout",
          "text": [
            "Correlation with 'stab':\n",
            " stab    1.000000\n",
            "g3      0.293684\n",
            "g2      0.293684\n",
            "g4      0.293684\n",
            "tau2    0.283417\n",
            "tau3    0.283417\n",
            "tau4    0.283417\n",
            "g1      0.282774\n",
            "tau1    0.275761\n",
            "p1      0.010278\n",
            "p4     -0.005951\n",
            "p2     -0.005951\n",
            "p3     -0.005951\n",
            "Name: stab, dtype: float64\n"
          ]
        }
      ]
    },
    {
      "cell_type": "code",
      "source": [
        "class_distribution = df['stabf'].value_counts()\n",
        "\n",
        "print(\"Class Distribution:\")\n",
        "print(class_distribution)"
      ],
      "metadata": {
        "colab": {
          "base_uri": "https://localhost:8080/"
        },
        "id": "SJfmRfWUzsnl",
        "outputId": "e4e47d2c-b6b8-40c0-df79-6e17cbe2c486"
      },
      "execution_count": 9,
      "outputs": [
        {
          "output_type": "stream",
          "name": "stdout",
          "text": [
            "Class Distribution:\n",
            "stabf\n",
            "unstable    38280\n",
            "stable      21720\n",
            "Name: count, dtype: int64\n"
          ]
        }
      ]
    },
    {
      "cell_type": "markdown",
      "source": [
        "RANDOM FOREST CLASSIFIER\n"
      ],
      "metadata": {
        "id": "usIDRjEMzw2t"
      }
    },
    {
      "cell_type": "code",
      "source": [
        "\n",
        "le = LabelEncoder()\n",
        "df['stabf_encoded'] = le.fit_transform(df['stabf'])\n",
        "\n",
        "X = df.drop(['stabf', 'stabf_encoded', 'stab'], axis=1)\n",
        "y = df['stabf_encoded']\n",
        "\n",
        "X_train, X_test, y_train, y_test = train_test_split(X, y, test_size=0.2, random_state=42)\n",
        "\n",
        "rf_classifier = RandomForestClassifier(n_estimators=100, random_state=42)\n",
        "rf_classifier.fit(X_train, y_train)\n",
        "\n",
        "y_pred = rf_classifier.predict(X_test)\n",
        "\n",
        "accuracy = accuracy_score(y_test, y_pred)\n",
        "classification_rep = classification_report(y_test, y_pred, target_names=le.classes_)\n",
        "\n",
        "print(f\"Accuracy: {accuracy:.4f}\")\n",
        "print(\"\\nClassification Report:\\n\", classification_rep)"
      ],
      "metadata": {
        "colab": {
          "base_uri": "https://localhost:8080/"
        },
        "id": "53aEd7yTz1Ys",
        "outputId": "6165bdf9-8583-4cbf-f98c-04296d1d6f7f"
      },
      "execution_count": 10,
      "outputs": [
        {
          "output_type": "stream",
          "name": "stdout",
          "text": [
            "Accuracy: 0.9479\n",
            "\n",
            "Classification Report:\n",
            "               precision    recall  f1-score   support\n",
            "\n",
            "      stable       0.94      0.91      0.93      4322\n",
            "    unstable       0.95      0.97      0.96      7678\n",
            "\n",
            "    accuracy                           0.95     12000\n",
            "   macro avg       0.95      0.94      0.94     12000\n",
            "weighted avg       0.95      0.95      0.95     12000\n",
            "\n"
          ]
        }
      ]
    },
    {
      "cell_type": "code",
      "source": [],
      "metadata": {
        "id": "gcZ_w7xn0Hsg"
      },
      "execution_count": 10,
      "outputs": []
    },
    {
      "cell_type": "markdown",
      "source": [
        "DECISION TREECLASSIFIER"
      ],
      "metadata": {
        "id": "2WF2C6yg0KR0"
      }
    },
    {
      "cell_type": "code",
      "source": [
        "dt_classifier = DecisionTreeClassifier(random_state=42)\n",
        "\n",
        "dt_classifier.fit(X_train, y_train)\n",
        "\n",
        "y_pred_dt = dt_classifier.predict(X_test)\n",
        "\n",
        "accuracy_dt = accuracy_score(y_test, y_pred_dt)\n",
        "classification_rep_dt = classification_report(y_test, y_pred_dt, target_names=le.classes_)\n",
        "\n",
        "print(f\"Accuracy: {accuracy_dt:.4f}\")\n",
        "print(\"\\nClassification Report:\\n\", classification_rep_dt)\n"
      ],
      "metadata": {
        "colab": {
          "base_uri": "https://localhost:8080/"
        },
        "id": "H0k-1i020NfO",
        "outputId": "6d28295c-a24f-463e-9015-33b6808efd96"
      },
      "execution_count": 11,
      "outputs": [
        {
          "output_type": "stream",
          "name": "stdout",
          "text": [
            "Accuracy: 0.8958\n",
            "\n",
            "Classification Report:\n",
            "               precision    recall  f1-score   support\n",
            "\n",
            "      stable       0.85      0.86      0.86      4322\n",
            "    unstable       0.92      0.92      0.92      7678\n",
            "\n",
            "    accuracy                           0.90     12000\n",
            "   macro avg       0.89      0.89      0.89     12000\n",
            "weighted avg       0.90      0.90      0.90     12000\n",
            "\n"
          ]
        }
      ]
    },
    {
      "cell_type": "markdown",
      "source": [
        "Support Vector Machine Classifier"
      ],
      "metadata": {
        "id": "JQbTXA4R0SCh"
      }
    },
    {
      "cell_type": "code",
      "source": [
        "svm_classifier = SVC(kernel='linear', random_state=42)\n",
        "\n",
        "svm_classifier.fit(X_train, y_train)\n",
        "\n",
        "y_pred_svm = svm_classifier.predict(X_test)\n",
        "\n",
        "accuracy_svm = accuracy_score(y_test, y_pred_svm)\n",
        "classification_rep_svm = classification_report(y_test, y_pred_svm, target_names=le.classes_)\n",
        "\n",
        "print(f\"Accuracy: {accuracy_svm:.4f}\")\n",
        "print(\"\\nClassification Report:\\n\", classification_rep_svm)"
      ],
      "metadata": {
        "colab": {
          "base_uri": "https://localhost:8080/"
        },
        "id": "OS3R1LFSBvUR",
        "outputId": "261e42b3-4fa5-4024-d36e-90f9218211d2"
      },
      "execution_count": 12,
      "outputs": [
        {
          "output_type": "stream",
          "name": "stdout",
          "text": [
            "Accuracy: 0.8109\n",
            "\n",
            "Classification Report:\n",
            "               precision    recall  f1-score   support\n",
            "\n",
            "      stable       0.76      0.69      0.73      4322\n",
            "    unstable       0.84      0.88      0.86      7678\n",
            "\n",
            "    accuracy                           0.81     12000\n",
            "   macro avg       0.80      0.79      0.79     12000\n",
            "weighted avg       0.81      0.81      0.81     12000\n",
            "\n"
          ]
        }
      ]
    },
    {
      "cell_type": "code",
      "source": [],
      "metadata": {
        "id": "kFnqibe0C1XT"
      },
      "execution_count": 12,
      "outputs": []
    },
    {
      "cell_type": "markdown",
      "source": [
        "LSTM\n"
      ],
      "metadata": {
        "id": "juv42683DKsM"
      }
    },
    {
      "cell_type": "code",
      "source": [
        "scaler = StandardScaler()\n",
        "X_scaled = scaler.fit_transform(X)"
      ],
      "metadata": {
        "id": "jBn6dXmrDMT4"
      },
      "execution_count": 13,
      "outputs": []
    },
    {
      "cell_type": "code",
      "source": [
        "X_train_lstm = X_scaled[:X_train.shape[0], :]\n",
        "X_test_lstm = X_scaled[X_train.shape[0]:, :]\n",
        "X_train_lstm = X_train_lstm.reshape((X_train_lstm.shape[0], 1, X_train_lstm.shape[1]))\n",
        "X_test_lstm = X_test_lstm.reshape((X_test_lstm.shape[0], 1, X_test_lstm.shape[1]))"
      ],
      "metadata": {
        "id": "bzXOdzCSDPNq"
      },
      "execution_count": 14,
      "outputs": []
    },
    {
      "cell_type": "code",
      "source": [
        "model = Sequential()\n",
        "model.add(LSTM(50, input_shape=(X_train_lstm.shape[1], X_train_lstm.shape[2])))\n",
        "model.add(Dense(1, activation='sigmoid'))"
      ],
      "metadata": {
        "id": "E67F7nMJDSVZ",
        "colab": {
          "base_uri": "https://localhost:8080/"
        },
        "outputId": "17dd023b-ca2d-46ab-f239-647977042fcc"
      },
      "execution_count": 15,
      "outputs": [
        {
          "output_type": "stream",
          "name": "stderr",
          "text": [
            "/usr/local/lib/python3.10/dist-packages/keras/src/layers/rnn/rnn.py:204: UserWarning: Do not pass an `input_shape`/`input_dim` argument to a layer. When using Sequential models, prefer using an `Input(shape)` object as the first layer in the model instead.\n",
            "  super().__init__(**kwargs)\n"
          ]
        }
      ]
    },
    {
      "cell_type": "code",
      "source": [
        "model.compile(optimizer='adam', loss='binary_crossentropy', metrics=['accuracy'])\n"
      ],
      "metadata": {
        "id": "CkdZQzZ8DVOE"
      },
      "execution_count": 16,
      "outputs": []
    },
    {
      "cell_type": "code",
      "source": [
        "model.fit(X_train_lstm, y_train, epochs=10, batch_size=32, validation_data=(X_test_lstm, y_test), verbose=2)"
      ],
      "metadata": {
        "colab": {
          "base_uri": "https://localhost:8080/"
        },
        "id": "HLVnOeMeDlNf",
        "outputId": "09446617-bdd1-48ba-cee3-bff03b129291"
      },
      "execution_count": 17,
      "outputs": [
        {
          "output_type": "stream",
          "name": "stdout",
          "text": [
            "Epoch 1/10\n",
            "1500/1500 - 5s - 3ms/step - accuracy: 0.6357 - loss: 0.6573 - val_accuracy: 0.6398 - val_loss: 0.6543\n",
            "Epoch 2/10\n",
            "1500/1500 - 5s - 3ms/step - accuracy: 0.6375 - loss: 0.6554 - val_accuracy: 0.6398 - val_loss: 0.6539\n",
            "Epoch 3/10\n",
            "1500/1500 - 4s - 3ms/step - accuracy: 0.6375 - loss: 0.6551 - val_accuracy: 0.6398 - val_loss: 0.6548\n",
            "Epoch 4/10\n",
            "1500/1500 - 3s - 2ms/step - accuracy: 0.6375 - loss: 0.6551 - val_accuracy: 0.6398 - val_loss: 0.6542\n",
            "Epoch 5/10\n",
            "1500/1500 - 5s - 4ms/step - accuracy: 0.6375 - loss: 0.6549 - val_accuracy: 0.6398 - val_loss: 0.6540\n",
            "Epoch 6/10\n",
            "1500/1500 - 6s - 4ms/step - accuracy: 0.6375 - loss: 0.6549 - val_accuracy: 0.6398 - val_loss: 0.6543\n",
            "Epoch 7/10\n",
            "1500/1500 - 4s - 3ms/step - accuracy: 0.6375 - loss: 0.6546 - val_accuracy: 0.6398 - val_loss: 0.6540\n",
            "Epoch 8/10\n",
            "1500/1500 - 3s - 2ms/step - accuracy: 0.6375 - loss: 0.6547 - val_accuracy: 0.6398 - val_loss: 0.6542\n",
            "Epoch 9/10\n",
            "1500/1500 - 6s - 4ms/step - accuracy: 0.6375 - loss: 0.6545 - val_accuracy: 0.6398 - val_loss: 0.6539\n",
            "Epoch 10/10\n",
            "1500/1500 - 3s - 2ms/step - accuracy: 0.6375 - loss: 0.6544 - val_accuracy: 0.6398 - val_loss: 0.6542\n"
          ]
        },
        {
          "output_type": "execute_result",
          "data": {
            "text/plain": [
              "<keras.src.callbacks.history.History at 0x7c148c37d330>"
            ]
          },
          "metadata": {},
          "execution_count": 17
        }
      ]
    },
    {
      "cell_type": "code",
      "source": [
        "y_pred_lstm = (model.predict(X_test_lstm) > 0.5).astype(\"int32\")"
      ],
      "metadata": {
        "colab": {
          "base_uri": "https://localhost:8080/"
        },
        "id": "BIqz6grrD3IM",
        "outputId": "791d2f12-5bae-4bbb-dec8-ae0edc306a20"
      },
      "execution_count": 18,
      "outputs": [
        {
          "output_type": "stream",
          "name": "stdout",
          "text": [
            "\u001b[1m375/375\u001b[0m \u001b[32m━━━━━━━━━━━━━━━━━━━━\u001b[0m\u001b[37m\u001b[0m \u001b[1m1s\u001b[0m 1ms/step\n"
          ]
        }
      ]
    },
    {
      "cell_type": "code",
      "source": [
        "accuracy_lstm = accuracy_score(y_test, y_pred_lstm)\n",
        "classification_rep_lstm = classification_report(y_test, y_pred_lstm, target_names=le.classes_)"
      ],
      "metadata": {
        "colab": {
          "base_uri": "https://localhost:8080/"
        },
        "id": "gNyfnP_WD8dq",
        "outputId": "3bd180ec-5853-4e39-f1a8-4bf8c8765998"
      },
      "execution_count": 19,
      "outputs": [
        {
          "output_type": "stream",
          "name": "stderr",
          "text": [
            "/usr/local/lib/python3.10/dist-packages/sklearn/metrics/_classification.py:1531: UndefinedMetricWarning: Precision is ill-defined and being set to 0.0 in labels with no predicted samples. Use `zero_division` parameter to control this behavior.\n",
            "  _warn_prf(average, modifier, f\"{metric.capitalize()} is\", len(result))\n",
            "/usr/local/lib/python3.10/dist-packages/sklearn/metrics/_classification.py:1531: UndefinedMetricWarning: Precision is ill-defined and being set to 0.0 in labels with no predicted samples. Use `zero_division` parameter to control this behavior.\n",
            "  _warn_prf(average, modifier, f\"{metric.capitalize()} is\", len(result))\n",
            "/usr/local/lib/python3.10/dist-packages/sklearn/metrics/_classification.py:1531: UndefinedMetricWarning: Precision is ill-defined and being set to 0.0 in labels with no predicted samples. Use `zero_division` parameter to control this behavior.\n",
            "  _warn_prf(average, modifier, f\"{metric.capitalize()} is\", len(result))\n"
          ]
        }
      ]
    },
    {
      "cell_type": "code",
      "source": [
        "print(f\"LSTM Model Accuracy: {accuracy_lstm:.4f}\")\n",
        "print(\"\\nLSTM Model Classification Report:\\n\", classification_rep_lstm)"
      ],
      "metadata": {
        "colab": {
          "base_uri": "https://localhost:8080/"
        },
        "id": "ciMqxRMAEBO9",
        "outputId": "0e64a500-38bf-4fc4-a8c9-84947145c96c"
      },
      "execution_count": 20,
      "outputs": [
        {
          "output_type": "stream",
          "name": "stdout",
          "text": [
            "LSTM Model Accuracy: 0.6398\n",
            "\n",
            "LSTM Model Classification Report:\n",
            "               precision    recall  f1-score   support\n",
            "\n",
            "      stable       0.00      0.00      0.00      4322\n",
            "    unstable       0.64      1.00      0.78      7678\n",
            "\n",
            "    accuracy                           0.64     12000\n",
            "   macro avg       0.32      0.50      0.39     12000\n",
            "weighted avg       0.41      0.64      0.50     12000\n",
            "\n"
          ]
        }
      ]
    },
    {
      "cell_type": "markdown",
      "source": [
        "ADAM Classifier"
      ],
      "metadata": {
        "id": "VgDQmpCJHCeL"
      }
    },
    {
      "cell_type": "code",
      "source": [
        "import pandas as pd\n",
        "import numpy as np\n",
        "import tensorflow as tf\n",
        "from sklearn.model_selection import train_test_split\n",
        "from sklearn.preprocessing import LabelEncoder\n",
        "from sklearn.metrics import classification_report, accuracy_score\n",
        "from tensorflow.keras.models import Sequential\n",
        "from tensorflow.keras.layers import Dense\n",
        "\n",
        "le = LabelEncoder()\n",
        "df['stabf_encoded'] = le.fit_transform(df['stabf'])\n",
        "\n",
        "X = df.drop(['stabf', 'stabf_encoded', 'stab'], axis=1, errors='ignore')\n",
        "y = df['stabf_encoded']\n",
        "\n",
        "X_train, X_test, y_train, y_test = train_test_split(X, y, test_size=0.2, random_state=42)\n",
        "\n",
        "# Build a simple neural network model\n",
        "model = Sequential([\n",
        "    Dense(64, activation='relu', input_shape=(X_train.shape[1],)),  # Adjust input shape\n",
        "    Dense(32, activation='relu'),\n",
        "    Dense(len(le.classes_), activation='softmax')  # Output layer for number of classes\n",
        "])\n",
        "\n",
        "# Compile the model with Adam optimizer\n",
        "model.compile(optimizer='adam', loss='sparse_categorical_crossentropy', metrics=['accuracy'])\n",
        "\n",
        "model.fit(X_train, y_train, epochs=10, batch_size=32, validation_split=0.2)\n",
        "\n",
        "y_pred = model.predict(X_test)\n",
        "y_pred_classes = np.argmax(y_pred, axis=1)\n",
        "\n",
        "accuracy = accuracy_score(y_test, y_pred_classes)\n",
        "classification_rep = classification_report(y_test, y_pred_classes, target_names=le.classes_)\n",
        "\n",
        "# Display the results\n",
        "print(f\"Accuracy: {accuracy:.4f}\")\n",
        "print(\"\\nClassification Report:\\n\", classification_rep)"
      ],
      "metadata": {
        "colab": {
          "base_uri": "https://localhost:8080/"
        },
        "id": "K_NKoKExHF9O",
        "outputId": "232dd6ae-f2d6-4f06-d491-51be12557b4f"
      },
      "execution_count": 21,
      "outputs": [
        {
          "output_type": "stream",
          "name": "stdout",
          "text": [
            "Epoch 1/10\n"
          ]
        },
        {
          "output_type": "stream",
          "name": "stderr",
          "text": [
            "/usr/local/lib/python3.10/dist-packages/keras/src/layers/core/dense.py:87: UserWarning: Do not pass an `input_shape`/`input_dim` argument to a layer. When using Sequential models, prefer using an `Input(shape)` object as the first layer in the model instead.\n",
            "  super().__init__(activity_regularizer=activity_regularizer, **kwargs)\n"
          ]
        },
        {
          "output_type": "stream",
          "name": "stdout",
          "text": [
            "\u001b[1m1200/1200\u001b[0m \u001b[32m━━━━━━━━━━━━━━━━━━━━\u001b[0m\u001b[37m\u001b[0m \u001b[1m3s\u001b[0m 2ms/step - accuracy: 0.7899 - loss: 0.4440 - val_accuracy: 0.8850 - val_loss: 0.2479\n",
            "Epoch 2/10\n",
            "\u001b[1m1200/1200\u001b[0m \u001b[32m━━━━━━━━━━━━━━━━━━━━\u001b[0m\u001b[37m\u001b[0m \u001b[1m2s\u001b[0m 2ms/step - accuracy: 0.9028 - loss: 0.2290 - val_accuracy: 0.9298 - val_loss: 0.1716\n",
            "Epoch 3/10\n",
            "\u001b[1m1200/1200\u001b[0m \u001b[32m━━━━━━━━━━━━━━━━━━━━\u001b[0m\u001b[37m\u001b[0m \u001b[1m4s\u001b[0m 3ms/step - accuracy: 0.9343 - loss: 0.1635 - val_accuracy: 0.9391 - val_loss: 0.1536\n",
            "Epoch 4/10\n",
            "\u001b[1m1200/1200\u001b[0m \u001b[32m━━━━━━━━━━━━━━━━━━━━\u001b[0m\u001b[37m\u001b[0m \u001b[1m2s\u001b[0m 2ms/step - accuracy: 0.9453 - loss: 0.1330 - val_accuracy: 0.9446 - val_loss: 0.1324\n",
            "Epoch 5/10\n",
            "\u001b[1m1200/1200\u001b[0m \u001b[32m━━━━━━━━━━━━━━━━━━━━\u001b[0m\u001b[37m\u001b[0m \u001b[1m2s\u001b[0m 2ms/step - accuracy: 0.9472 - loss: 0.1246 - val_accuracy: 0.9368 - val_loss: 0.1451\n",
            "Epoch 6/10\n",
            "\u001b[1m1200/1200\u001b[0m \u001b[32m━━━━━━━━━━━━━━━━━━━━\u001b[0m\u001b[37m\u001b[0m \u001b[1m2s\u001b[0m 2ms/step - accuracy: 0.9513 - loss: 0.1159 - val_accuracy: 0.9557 - val_loss: 0.1123\n",
            "Epoch 7/10\n",
            "\u001b[1m1200/1200\u001b[0m \u001b[32m━━━━━━━━━━━━━━━━━━━━\u001b[0m\u001b[37m\u001b[0m \u001b[1m2s\u001b[0m 2ms/step - accuracy: 0.9527 - loss: 0.1131 - val_accuracy: 0.9409 - val_loss: 0.1389\n",
            "Epoch 8/10\n",
            "\u001b[1m1200/1200\u001b[0m \u001b[32m━━━━━━━━━━━━━━━━━━━━\u001b[0m\u001b[37m\u001b[0m \u001b[1m3s\u001b[0m 3ms/step - accuracy: 0.9551 - loss: 0.1107 - val_accuracy: 0.9611 - val_loss: 0.0981\n",
            "Epoch 9/10\n",
            "\u001b[1m1200/1200\u001b[0m \u001b[32m━━━━━━━━━━━━━━━━━━━━\u001b[0m\u001b[37m\u001b[0m \u001b[1m3s\u001b[0m 2ms/step - accuracy: 0.9595 - loss: 0.0989 - val_accuracy: 0.9609 - val_loss: 0.0971\n",
            "Epoch 10/10\n",
            "\u001b[1m1200/1200\u001b[0m \u001b[32m━━━━━━━━━━━━━━━━━━━━\u001b[0m\u001b[37m\u001b[0m \u001b[1m2s\u001b[0m 2ms/step - accuracy: 0.9591 - loss: 0.0981 - val_accuracy: 0.9598 - val_loss: 0.0963\n",
            "\u001b[1m375/375\u001b[0m \u001b[32m━━━━━━━━━━━━━━━━━━━━\u001b[0m\u001b[37m\u001b[0m \u001b[1m0s\u001b[0m 1ms/step\n",
            "Accuracy: 0.9649\n",
            "\n",
            "Classification Report:\n",
            "               precision    recall  f1-score   support\n",
            "\n",
            "      stable       0.98      0.92      0.95      4322\n",
            "    unstable       0.96      0.99      0.97      7678\n",
            "\n",
            "    accuracy                           0.96     12000\n",
            "   macro avg       0.97      0.96      0.96     12000\n",
            "weighted avg       0.97      0.96      0.96     12000\n",
            "\n"
          ]
        }
      ]
    },
    {
      "cell_type": "code",
      "source": [
        "!pip install colorama"
      ],
      "metadata": {
        "colab": {
          "base_uri": "https://localhost:8080/"
        },
        "id": "NPYsi2KvEFwZ",
        "outputId": "c1dc3d05-2f43-40cd-8871-c46117a6d433"
      },
      "execution_count": 22,
      "outputs": [
        {
          "output_type": "stream",
          "name": "stdout",
          "text": [
            "Collecting colorama\n",
            "  Downloading colorama-0.4.6-py2.py3-none-any.whl.metadata (17 kB)\n",
            "Downloading colorama-0.4.6-py2.py3-none-any.whl (25 kB)\n",
            "Installing collected packages: colorama\n",
            "Successfully installed colorama-0.4.6\n"
          ]
        }
      ]
    },
    {
      "cell_type": "code",
      "source": [
        "import matplotlib.pyplot as plt\n",
        "\n",
        "accuracy_rf = 0.95\n",
        "accuracy_dt = 0.90\n",
        "accuracy_svm = 0.81\n",
        "accuracy_lstm = 0.87\n",
        "accuracy_adam = 0.96\n",
        "\n",
        "accuracies = {\n",
        "    'Random Forest': accuracy_rf,\n",
        "    'Decision Tree': accuracy_dt,\n",
        "    'SVM': accuracy_svm,\n",
        "    'LSTM': accuracy_lstm,\n",
        "    'ADAM': accuracy_adam,\n",
        "}\n",
        "\n",
        "classifiers = list(accuracies.keys())\n",
        "accuracy_scores = list(accuracies.values())\n",
        "\n",
        "plt.figure(figsize=(14, 8))\n",
        "bars = plt.bar(classifiers, accuracy_scores, color=['green','gray','orange','red','purple'])\n",
        "\n",
        "for bar in bars:\n",
        "    yval = bar.get_height()\n",
        "    plt.text(bar.get_x() + bar.get_width()/2, yval + 0.02, f'{yval:.2f}', ha='center', va='bottom')\n",
        "\n",
        "plt.xlabel('Classifiers')\n",
        "plt.ylabel('Accuracy')\n",
        "plt.title('Accuracy Comparison of Different Classifiers\\n')\n",
        "plt.ylim(0, 1)\n",
        "plt.show()"
      ],
      "metadata": {
        "colab": {
          "base_uri": "https://localhost:8080/",
          "height": 739
        },
        "id": "so0pHuFlEJ5D",
        "outputId": "9cd002a0-5c8c-4512-e345-b072f2e61e44"
      },
      "execution_count": 23,
      "outputs": [
        {
          "output_type": "display_data",
          "data": {
            "text/plain": [
              "<Figure size 1400x800 with 1 Axes>"
            ],
            "image/png": "[encoded data removed]"
          },
          "metadata": {}
        }
      ]
    }
  ]
}